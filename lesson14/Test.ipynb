{
 "cells": [
  {
   "cell_type": "code",
   "execution_count": 1,
   "metadata": {},
   "outputs": [
    {
     "name": "stdout",
     "output_type": "stream",
     "text": [
      "[(1, '遠傳電信', 'John Doe', '(408)-111-1234', 'john.doe@bluebird.dev'), (2, '遠傳電信', 'Jane Doe', '(408)-111-1235', 'jane.doe@bluebird.dev'), (3, '台灣大車隊', 'David Wright', '(408)-222-1234', 'david.wright@dolphin.dev')]\n"
     ]
    },
    {
     "name": "stderr",
     "output_type": "stream",
     "text": [
      "2024-04-19 14:13:06.587 \n",
      "  \u001b[33m\u001b[1mWarning:\u001b[0m to view this Streamlit app on a browser, run it with the following\n",
      "  command:\n",
      "\n",
      "    streamlit run c:\\Users\\sandy\\miniconda3\\envs\\postgreSQL\\lib\\site-packages\\ipykernel_launcher.py [ARGUMENTS]\n"
     ]
    },
    {
     "data": {
      "text/plain": [
       "DeltaGenerator()"
      ]
     },
     "execution_count": 1,
     "metadata": {},
     "output_type": "execute_result"
    }
   ],
   "source": [
    "import streamlit as st\n",
    "from dotenv import load_dotenv\n",
    "import psycopg2\n",
    "import os\n",
    "load_dotenv()\n",
    "\n",
    "def get_contacts()->list:\n",
    "    with psycopg2.connect(os.environ['POSTGRE_PASSWORD']) as conn:\n",
    "        with conn.cursor() as cursor:\n",
    "            sql='''\n",
    "                SELECT 聯絡人id,客戶名稱,聯絡人姓名,電話,郵件\n",
    "                FROM 聯絡人 LEFT JOIN 客戶 ON 聯絡人.客戶id = 客戶.客戶_id\n",
    "            '''\n",
    "            cursor.execute(sql)\n",
    "            datas:list = cursor.fetchmany(10)\n",
    "            print(datas)\n",
    "            contacts = []\n",
    "            for item in datas:\n",
    "                contacts.append({'id':item[0],'客戶名稱':item[1],'姓名':item[2],'電話':item[3]})\n",
    "            return contacts\n",
    "\n",
    "source_data = get_contacts()\n",
    "\n",
    "st.dataframe(source_data,width=1200)"
   ]
  },
  {
   "cell_type": "code",
   "execution_count": 8,
   "metadata": {},
   "outputs": [],
   "source": [
    "import streamlit as st\n",
    "from dotenv import load_dotenv\n",
    "import psycopg2\n",
    "import os\n",
    "load_dotenv()\n",
    "\n",
    "def get_contacts()->list:\n",
    "    with psycopg2.connect(os.environ['POSTGRE_PASSWORD']) as conn:\n",
    "        with conn.cursor() as cursor:\n",
    "            sql='''\n",
    "                SELECT 聯絡人id,客戶名稱,聯絡人姓名,電話,郵件\n",
    "                FROM 聯絡人 LEFT JOIN 客戶 ON 聯絡人.客戶id = 客戶.客戶_id\n",
    "            '''\n",
    "            cursor.execute(sql)\n",
    "            datas:list = cursor.fetchmany(10)\n",
    "            print(datas)"
   ]
  }
 ],
 "metadata": {
  "kernelspec": {
   "display_name": "postgreSQL",
   "language": "python",
   "name": "python3"
  },
  "language_info": {
   "codemirror_mode": {
    "name": "ipython",
    "version": 3
   },
   "file_extension": ".py",
   "mimetype": "text/x-python",
   "name": "python",
   "nbconvert_exporter": "python",
   "pygments_lexer": "ipython3",
   "version": "3.10.13"
  }
 },
 "nbformat": 4,
 "nbformat_minor": 2
}
