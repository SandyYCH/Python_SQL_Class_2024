{
 "cells": [
  {
   "cell_type": "code",
   "execution_count": null,
   "metadata": {},
   "outputs": [],
   "source": [
    "import psycopg2\n",
    "import os\n",
    "from psycopg2 import connect\n",
    "from dotenv import load_dotenv\n",
    "\n",
    "#初始化環境變數\n",
    "load_dotenv()\n",
    "\n",
    "#使用環境變數POSTGRE_PASSWORD取得密碼，並建立connect的實體\n",
    "conn:connect = psycong2.connect(os.environ['POSTGRE_PASSWORD'])\n",
    "type(conn)"
   ]
  }
 ],
 "metadata": {
  "language_info": {
   "name": "python"
  }
 },
 "nbformat": 4,
 "nbformat_minor": 2
}
