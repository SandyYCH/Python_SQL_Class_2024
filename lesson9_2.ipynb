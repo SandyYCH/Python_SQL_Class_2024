{
 "cells": [
  {
   "cell_type": "code",
   "execution_count": 1,
   "metadata": {},
   "outputs": [],
   "source": [
    "#建立自訂funtion(參數)\n",
    "\n",
    "def say_hello():\n",
    "    print('Hello')"
   ]
  },
  {
   "cell_type": "code",
   "execution_count": 3,
   "metadata": {},
   "outputs": [
    {
     "name": "stdout",
     "output_type": "stream",
     "text": [
      "Hello\n"
     ]
    }
   ],
   "source": [
    "#呼叫自訂funtion(引數值)\n",
    "\n",
    "say_hello()"
   ]
  },
  {
   "cell_type": "code",
   "execution_count": 6,
   "metadata": {},
   "outputs": [],
   "source": [
    "def say_hello(name):\n",
    "    print(f'Hello! {name}')"
   ]
  },
  {
   "cell_type": "code",
   "execution_count": 7,
   "metadata": {},
   "outputs": [
    {
     "name": "stdout",
     "output_type": "stream",
     "text": [
      "Hello! 徐國堂\n"
     ]
    }
   ],
   "source": [
    "#引數值的呼叫\n",
    "\n",
    "say_hello('徐國堂')"
   ]
  },
  {
   "cell_type": "code",
   "execution_count": 8,
   "metadata": {},
   "outputs": [],
   "source": [
    "def say_hello(name):\n",
    "    print(f'Hello! {name}')"
   ]
  },
  {
   "cell_type": "code",
   "execution_count": 9,
   "metadata": {},
   "outputs": [
    {
     "name": "stdout",
     "output_type": "stream",
     "text": [
      "Hello! 徐國堂\n"
     ]
    }
   ],
   "source": [
    "#引數名稱的呼叫\n",
    "\n",
    "say_hello(name='徐國堂')"
   ]
  },
  {
   "cell_type": "code",
   "execution_count": 10,
   "metadata": {},
   "outputs": [],
   "source": [
    "def menu(wine, entree, dessert):\n",
    "    print(f'前酒:{wine}')\n",
    "    print(f'主餐:{entree}')\n",
    "    print(f'甜點:{dessert}')"
   ]
  },
  {
   "cell_type": "code",
   "execution_count": 12,
   "metadata": {},
   "outputs": [
    {
     "name": "stdout",
     "output_type": "stream",
     "text": [
      "前酒:白酒\n",
      "主餐:牛排\n",
      "甜點:蛋糕\n"
     ]
    }
   ],
   "source": [
    "#引數值的呼叫，必須依照參數的順序\n",
    "\n",
    "menu('白酒','牛排','蛋糕')"
   ]
  },
  {
   "cell_type": "code",
   "execution_count": null,
   "metadata": {},
   "outputs": [],
   "source": [
    "def menu(wine, entree, dessert):\n",
    "    print(f'前酒:{wine}')\n",
    "    print(f'主餐:{entree}')\n",
    "    print(f'甜點:{dessert}')"
   ]
  },
  {
   "cell_type": "code",
   "execution_count": 14,
   "metadata": {},
   "outputs": [
    {
     "name": "stdout",
     "output_type": "stream",
     "text": [
      "前酒:白酒\n",
      "主餐:牛排\n",
      "甜點:蛋糕\n"
     ]
    }
   ],
   "source": [
    "#引數名稱的呼叫，「不」須依照順序\n",
    "\n",
    "menu(entree='牛排',dessert='蛋糕',wine='白酒')"
   ]
  },
  {
   "cell_type": "code",
   "execution_count": null,
   "metadata": {},
   "outputs": [],
   "source": [
    "def menu(wine, entree, dessert):\n",
    "    print(f'前酒:{wine}')\n",
    "    print(f'主餐:{entree}')\n",
    "    print(f'甜點:{dessert}')"
   ]
  },
  {
   "cell_type": "code",
   "execution_count": 15,
   "metadata": {},
   "outputs": [
    {
     "name": "stdout",
     "output_type": "stream",
     "text": [
      "前酒:白酒\n",
      "主餐:牛排\n",
      "甜點:蛋糕\n"
     ]
    }
   ],
   "source": [
    "#混合呼叫：前面使用引數值的呼叫，後面使用引數名稱的呼叫\n",
    "\n",
    "menu('白酒', dessert='蛋糕', entree='牛排')"
   ]
  },
  {
   "cell_type": "code",
   "execution_count": 16,
   "metadata": {},
   "outputs": [],
   "source": [
    "#參數可以有type hint\n",
    "\n",
    "def menu(wine:str, entree:str, dessert:str):\n",
    "    print(f'前酒:{wine}')\n",
    "    print(f'主餐:{entree}')\n",
    "    print(f'甜點:{dessert}')"
   ]
  },
  {
   "cell_type": "code",
   "execution_count": 18,
   "metadata": {},
   "outputs": [
    {
     "name": "stdout",
     "output_type": "stream",
     "text": [
      "前酒:白酒\n",
      "主餐:牛排\n",
      "甜點:蛋糕\n"
     ]
    }
   ],
   "source": [
    "#根據上述的參數type hint得知，引數值皆須為str(字串)\n",
    "\n",
    "menu('白酒', dessert='蛋糕', entree='牛排')"
   ]
  },
  {
   "cell_type": "code",
   "execution_count": 22,
   "metadata": {},
   "outputs": [],
   "source": [
    "#建立自訂function-方法2\n",
    "\n",
    "def menu(wine:str, entree:str, dessert:str)-> dict[str,str]:\n",
    "    return{'前酒':wine, '主餐':entree, '甜點':dessert}"
   ]
  },
  {
   "cell_type": "code",
   "execution_count": 24,
   "metadata": {},
   "outputs": [
    {
     "data": {
      "text/plain": [
       "{'前酒': '白酒', '主餐': '牛排', '甜點': '蛋糕'}"
      ]
     },
     "execution_count": 24,
     "metadata": {},
     "output_type": "execute_result"
    }
   ],
   "source": [
    "#使用變數接收自訂function傳出的值\n",
    "\n",
    "my_menu = menu('白酒', dessert='蛋糕', entree='牛排')\n",
    "my_menu"
   ]
  },
  {
   "cell_type": "code",
   "execution_count": 25,
   "metadata": {},
   "outputs": [],
   "source": [
    "#參數的default value(預設值)\n",
    "\n",
    "def menu(wine:str, entree:str, dessert:str='蛋糕')-> dict[str,str]:\n",
    "    return{'前酒':wine, '主餐':entree, '甜點':dessert}"
   ]
  },
  {
   "cell_type": "code",
   "execution_count": 28,
   "metadata": {},
   "outputs": [
    {
     "name": "stdout",
     "output_type": "stream",
     "text": [
      "{'前酒': '白酒', '主餐': '牛排', '甜點': '蛋糕'}\n"
     ]
    }
   ],
   "source": [
    "#呼叫函式的2種語法\n",
    "\n",
    "menu('白酒', entree='牛排')\n",
    "print(menu('白酒', entree='牛排'))"
   ]
  },
  {
   "cell_type": "code",
   "execution_count": 31,
   "metadata": {},
   "outputs": [
    {
     "name": "stdout",
     "output_type": "stream",
     "text": [
      "{'前酒': '白酒', '主餐': '牛排', '甜點': '蛋糕'}\n",
      "{'前酒': '白酒', '主餐': '牛排', '甜點': '水果'}\n"
     ]
    }
   ],
   "source": [
    "#若有指定引數值，則會覆蓋參數default value\n",
    "\n",
    "print(menu('白酒', entree='牛排'))\n",
    "print(menu('白酒', entree='牛排', dessert='水果'))"
   ]
  },
  {
   "cell_type": "code",
   "execution_count": 32,
   "metadata": {},
   "outputs": [],
   "source": [
    "#default value必須置於最後，否則執行時會產生錯誤\n",
    "\n",
    "def menu(wine:str, entree:str='牛排', dessert:str='蛋糕')-> dict[str,str]:\n",
    "    return{'前酒':wine, '主餐':entree, '甜點':dessert}"
   ]
  },
  {
   "cell_type": "code",
   "execution_count": 36,
   "metadata": {},
   "outputs": [
    {
     "name": "stdout",
     "output_type": "stream",
     "text": [
      "{'前酒': '白酒', '主餐': '牛排', '甜點': '蛋糕'}\n",
      "{'前酒': '白酒', '主餐': '牛排', '甜點': '水果'}\n",
      "{'前酒': '白酒', '主餐': '雞排', '甜點': '水果'}\n"
     ]
    }
   ],
   "source": [
    "#當有default value建議使用引數名稱呼叫\n",
    "\n",
    "print(menu('白酒'))\n",
    "print(menu('白酒',dessert='水果'))\n",
    "print(menu('白酒',dessert='水果',entree='雞排'))"
   ]
  },
  {
   "cell_type": "code",
   "execution_count": 38,
   "metadata": {},
   "outputs": [
    {
     "data": {
      "text/plain": [
       "{'前酒': '白酒', '主餐': '牛排', '甜點': '蛋糕'}"
      ]
     },
     "execution_count": 38,
     "metadata": {},
     "output_type": "execute_result"
    }
   ],
   "source": [
    "def menu(wine:str='白酒', entree:str='牛排', dessert:str='蛋糕')-> dict[str,str]:\n",
    "    return{'前酒':wine, '主餐':entree, '甜點':dessert}\n",
    "\n",
    "menu()"
   ]
  },
  {
   "cell_type": "code",
   "execution_count": 45,
   "metadata": {},
   "outputs": [
    {
     "name": "stdout",
     "output_type": "stream",
     "text": [
      "()\n",
      "('白酒', '紅酒', '黑酒')\n"
     ]
    }
   ],
   "source": [
    "#*args：沒有限定數量的引數值\n",
    "#*args：傳出tuple\n",
    "\n",
    "def menu(*args):\n",
    "    print(args)\n",
    "\n",
    "menu()\n",
    "menu('白酒','紅酒','黑酒')  #可以一直增加元素"
   ]
  },
  {
   "cell_type": "code",
   "execution_count": 50,
   "metadata": {},
   "outputs": [
    {
     "name": "stdout",
     "output_type": "stream",
     "text": [
      "{}\n",
      "{'酒1': '白酒', '酒2': '紅酒', '酒3': '黑酒'}\n"
     ]
    }
   ],
   "source": [
    "#**kwargs：沒有限定數量的引數名稱\n",
    "#**kwargs：傳出dictionary\n",
    "\n",
    "def menu(**kwargs):\n",
    "    print(kwargs)\n",
    "\n",
    "menu()\n",
    "menu(酒1='白酒', 酒2='紅酒', 酒3='黑酒')    #可以一直增加Key:Value"
   ]
  },
  {
   "cell_type": "code",
   "execution_count": 57,
   "metadata": {},
   "outputs": [
    {
     "name": "stdout",
     "output_type": "stream",
     "text": [
      "1-2-3.0-True.\n"
     ]
    }
   ],
   "source": [
    "print('1', 2, 3.0, True, sep='-', end='.\\n')"
   ]
  }
 ],
 "metadata": {
  "kernelspec": {
   "display_name": "postgreSQL",
   "language": "python",
   "name": "python3"
  },
  "language_info": {
   "codemirror_mode": {
    "name": "ipython",
    "version": 3
   },
   "file_extension": ".py",
   "mimetype": "text/x-python",
   "name": "python",
   "nbconvert_exporter": "python",
   "pygments_lexer": "ipython3",
   "version": "3.10.13"
  }
 },
 "nbformat": 4,
 "nbformat_minor": 2
}
