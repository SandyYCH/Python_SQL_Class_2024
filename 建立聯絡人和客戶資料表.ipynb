{
 "cells": [
  {
   "cell_type": "markdown",
   "metadata": {},
   "source": [
    "#### 建立環境變數"
   ]
  },
  {
   "cell_type": "code",
   "execution_count": 6,
   "metadata": {},
   "outputs": [
    {
     "data": {
      "text/plain": [
       "True"
      ]
     },
     "execution_count": 6,
     "metadata": {},
     "output_type": "execute_result"
    }
   ],
   "source": [
    "import psycopg2\n",
    "import os\n",
    "from psycopg2 import connect\n",
    "from dotenv import load_dotenv\n",
    "load_dotenv()"
   ]
  },
  {
   "cell_type": "markdown",
   "metadata": {},
   "source": [
    "#### 建立客戶資料表、聯絡人資料表"
   ]
  },
  {
   "cell_type": "code",
   "execution_count": 7,
   "metadata": {},
   "outputs": [],
   "source": [
    "conn:connect = psycopg2.connect(os.environ['POSTGRE_PASSWORD'])\n",
    "\n",
    "cur = conn.cursor()\n",
    "\n",
    "sql = '''\n",
    "    CREATE TABLE IF NOT EXISTS 客戶(\n",
    "        客戶_id SERIAL,\n",
    "        客戶名稱 VARCHAR(255) NOT NULL,\n",
    "        PRIMARY KEY(客戶_id)\n",
    "    );\n",
    "\n",
    "    CREATE TABLE IF NOT EXISTS 聯絡人(\n",
    "        聯絡人id SERIAL,\n",
    "        客戶id INT,\n",
    "        聯絡人姓名 VARCHAR(255) NOT NULL,\n",
    "        電話 VARCHAR(15),\n",
    "        郵件 VARCHAR(100),\n",
    "        PRIMARY KEY(聯絡人id),\n",
    "        FOREIGN KEY(客戶id) REFERENCES 客戶(客戶_id)\n",
    "    );\n",
    "'''\n",
    "\n",
    "cur.execute(sql)\n",
    "\n",
    "conn.commit()\n",
    "cur.close()\n",
    "conn.close()"
   ]
  },
  {
   "cell_type": "markdown",
   "metadata": {},
   "source": [
    "#### 新增客戶及聯絡人資料"
   ]
  },
  {
   "cell_type": "code",
   "execution_count": 8,
   "metadata": {},
   "outputs": [],
   "source": [
    "conn:connect = psycopg2.connect(os.environ['POSTGRE_PASSWORD'])\n",
    "\n",
    "cur = conn.cursor()\n",
    "\n",
    "sql = '''\n",
    "    INSERT INTO 客戶(客戶名稱)\n",
    "    VALUES('遠傳電信'),\n",
    "          ('台灣大車隊');\n",
    "\n",
    "    INSERT INTO 聯絡人(客戶id,聯絡人姓名,電話,郵件)\n",
    "    VALUES (1,'John Doe','(408)-111-1234','john.doe@bluebird.dev'),\n",
    "\t       (1,'Jane Doe','(408)-111-1235','jane.doe@bluebird.dev'),\n",
    "\t       (2,'David Wright','(408)-222-1234','david.wright@dolphin.dev');\n",
    "'''\n",
    "\n",
    "cur.execute(sql)\n",
    "\n",
    "conn.commit()\n",
    "cur.close()\n",
    "conn.close()"
   ]
  }
 ],
 "metadata": {
  "kernelspec": {
   "display_name": "postgreSQL",
   "language": "python",
   "name": "python3"
  },
  "language_info": {
   "codemirror_mode": {
    "name": "ipython",
    "version": 3
   },
   "file_extension": ".py",
   "mimetype": "text/x-python",
   "name": "python",
   "nbconvert_exporter": "python",
   "pygments_lexer": "ipython3",
   "version": "3.10.13"
  }
 },
 "nbformat": 4,
 "nbformat_minor": 2
}
