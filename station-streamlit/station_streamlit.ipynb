{
 "cells": [
  {
   "cell_type": "code",
   "execution_count": 17,
   "metadata": {},
   "outputs": [
    {
     "name": "stdout",
     "output_type": "stream",
     "text": [
      "['七堵', '三坑', '三塊厝', '三姓橋', '三民', '三義', '三貂嶺', '上員', '中壢', '中洲', '中里', '九曲堂', '九讚頭', '二水', '二結', '五堵', '五權', '仁德', '佳冬', '保安', '光復', '內壢', '內惟', '內灣', '內獅', '八堵', '八斗子', '六塊厝', '六家', '冬山', '加祿', '北埔', '北新竹', '北湖', '十分', '千甲', '南勢', '南州', '南平', '南方小站', '南樹林', '南港', '南澳', '南科', '南靖', '合興', '吉安', '后里', '和仁', '和平', '員林', '善化', '嘉北', '嘉義', '四城', '四腳亭', '埔心', '基隆', '壽豐', '外澳', '大富', '大山', '大慶', '大村', '大林', '大橋', '大武', '大湖', '大溪', '大甲', '大肚', '大華', '大里', '太原', '太麻里', '宜蘭', '富岡', '富源', '富貴', '富里', '屏東', '山佳', '山里', '岡山', '崁頂', '崇德', '崎頂', '嶺腳', '左營', '平和', '平溪', '康樂', '彰化', '後壁', '後庄', '後龍', '志學', '成功', '拔林', '斗六', '斗南', '新城', '新埔', '新富', '新左營', '新市', '新烏日', '新營', '新竹', '新莊', '新豐', '新馬', '日南', '景美', '暖暖', '望古', '東海', '東澳', '東竹', '東里', '松山', '松竹', '板橋', '枋寮', '枋山', '枋野', '林內', '林榮新光', '林邊', '林鳳營', '柳營', '栗林', '桃園', '楊梅', '楠梓', '榮華', '樹林', '橋頭', '橫山', '正義', '武塔', '歸來', '民族', '民雄', '水上', '水里', '永康', '永樂', '永靖', '汐止', '汐科', '池上', '沙崙', '沙鹿', '泰安', '浮洲', '海科館', '海端', '清水', '湖口', '源泉', '漢本', '潭子', '潮州', '潮州基地', '濁水', '瀧溪', '烏日', '牡丹', '猴硐', '玉里', '瑞和', '瑞源', '瑞穗', '瑞芳', '田中', '白沙屯', '百福', '知本', '石城', '石榴', '石龜', '礁溪', '社頭', '福隆', '科工館', '竹中', '竹北', '竹南', '竹東', '竹田', '精武', '羅東', '美術館', '臺中', '臺中港', '臺北', '臺北-環島', '臺南', '臺東', '花壇', '花蓮', '苑裡', '苗栗', '菁桐', '萬榮', '萬華', '蘇澳', '蘇澳新', '西勢', '談文', '豐原', '豐富', '豐田', '貢寮', '路竹', '車埕', '追分', '通霄', '造橋', '金崙', '銅鑼', '鎮安', '長榮大學', '關山', '隆田', '集集', '雙溪', '頂埔', '頭城', '頭家厝', '香山', '高雄', '鳳山', '鳳林', '鶯歌', '鹿野', '麟洛', '鼓山', '龍井', '龍泉', '龍港', '龜山']\n"
     ]
    }
   ],
   "source": [
    "import streamlit as st\n",
    "from dotenv import load_dotenv\n",
    "import psycopg2\n",
    "import os\n",
    "load_dotenv()\n",
    "\n",
    "@st.cache_resource\n",
    "def get_station_names() -> list:\n",
    "    with psycopg2.connect(os.environ['POSTGRE_PASSWORD']) as conn:\n",
    "        with conn.cursor() as cursor:\n",
    "            sql='''\n",
    "                SELECT * FROM public.stations\n",
    "                ORDER BY \"名稱\" ASC \n",
    "            '''\n",
    "            cursor.execute(sql)\n",
    "            datas:list = cursor.fetchall()\n",
    "            names = []\n",
    "            for item in datas:\n",
    "                names.append(item[1])\n",
    "            return names\n",
    "\n",
    "source_data:list[dict] = get_station_names()\n",
    "\n",
    "with st.sidebar:\n",
    "    st.subheader(\"站點名稱\")\n",
    "    option = st.selectbox(\"請輸入站點名稱:\",get_station_names())\n",
    "    st.write(\"You selected:\", option)"
   ]
  }
 ],
 "metadata": {
  "kernelspec": {
   "display_name": "postgreSQL",
   "language": "python",
   "name": "python3"
  },
  "language_info": {
   "codemirror_mode": {
    "name": "ipython",
    "version": 3
   },
   "file_extension": ".py",
   "mimetype": "text/x-python",
   "name": "python",
   "nbconvert_exporter": "python",
   "pygments_lexer": "ipython3",
   "version": "3.10.13"
  }
 },
 "nbformat": 4,
 "nbformat_minor": 2
}
