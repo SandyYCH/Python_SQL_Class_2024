{
 "cells": [
  {
   "cell_type": "code",
   "execution_count": 13,
   "metadata": {},
   "outputs": [
    {
     "data": {
      "text/plain": [
       "'10,000元'"
      ]
     },
     "execution_count": 13,
     "metadata": {},
     "output_type": "execute_result"
    }
   ],
   "source": [
    "class staff:\n",
    "    def salary(self):\n",
    "        return '10,000元'\n",
    "    \n",
    "yamamoto = staff()\n",
    "yamamoto.salary()"
   ]
  },
  {
   "cell_type": "code",
   "execution_count": 4,
   "metadata": {},
   "outputs": [
    {
     "name": "stdout",
     "output_type": "stream",
     "text": [
      "My car is blue and has 4 seats.\n"
     ]
    }
   ],
   "source": [
    "# 汽車類別\n",
    "class Cars:\n",
    "    # 建構式\n",
    "    def __init__(self, color, seat):\n",
    "        self.color = color  # 顏色屬性\n",
    "        self.seat = seat  # 座位屬性\n",
    "    # 方法(Method)\n",
    "    def drive(self):\n",
    "        print(f\"My car is {self.color} and has {self.seat} seats.\")\n",
    "mazda = Cars(\"blue\", 4)\n",
    "mazda.drive()  #執行結果：My car is blue and has 4 seats."
   ]
  },
  {
   "cell_type": "code",
   "execution_count": 9,
   "metadata": {},
   "outputs": [],
   "source": [
    "def cars(color,seat):\n",
    "    print(f'My car is {color} and has {seat} seats.')"
   ]
  },
  {
   "cell_type": "code",
   "execution_count": 10,
   "metadata": {},
   "outputs": [
    {
     "name": "stdout",
     "output_type": "stream",
     "text": [
      "My car is blue and has 4 seats.\n"
     ]
    }
   ],
   "source": [
    "cars('blue',4)"
   ]
  },
  {
   "cell_type": "code",
   "execution_count": 18,
   "metadata": {},
   "outputs": [
    {
     "name": "stdout",
     "output_type": "stream",
     "text": [
      "歡迎光臨！\n"
     ]
    }
   ],
   "source": [
    "pw = input(\"請輸入密碼:\")\n",
    "if pw == \"1234\":\n",
    "    print(\"歡迎光臨！\")"
   ]
  },
  {
   "cell_type": "code",
   "execution_count": null,
   "metadata": {},
   "outputs": [],
   "source": [
    "pw = input(\"請輸入密碼:\")\n",
    "if pw == \"1234\":\n",
    "    print(\"歡迎光臨！\")"
   ]
  },
  {
   "cell_type": "code",
   "execution_count": 20,
   "metadata": {},
   "outputs": [
    {
     "name": "stdout",
     "output_type": "stream",
     "text": [
      "密碼錯誤！\n"
     ]
    }
   ],
   "source": [
    "pw = input(\"請輸入密碼:\")\n",
    "if pw == \"1234\":\n",
    "    print(\"歡迎光臨！\")\n",
    "else:\n",
    "    print(\"密碼錯誤！\")"
   ]
  },
  {
   "cell_type": "code",
   "execution_count": 22,
   "metadata": {},
   "outputs": [
    {
     "name": "stdout",
     "output_type": "stream",
     "text": [
      "優等\n"
     ]
    }
   ],
   "source": [
    "score = input(\"請輸入成績:\")\n",
    "if(int(score) >= 90):\n",
    "    print(\"優等\")\n",
    "elif(int(score) >= 80):\n",
    "    print(\"甲等\")\n",
    "elif(int(score) >= 70):\n",
    "    print(\"乙等\")\n",
    "elif(int(score) >= 60):\n",
    "    print(\"丙等\")\n",
    "else:\n",
    "    print(\"丁等\")"
   ]
  },
  {
   "cell_type": "code",
   "execution_count": 23,
   "metadata": {},
   "outputs": [
    {
     "ename": "TypeError",
     "evalue": "'>=' not supported between instances of 'str' and 'int'",
     "output_type": "error",
     "traceback": [
      "\u001b[1;31m---------------------------------------------------------------------------\u001b[0m",
      "\u001b[1;31mTypeError\u001b[0m                                 Traceback (most recent call last)",
      "Cell \u001b[1;32mIn[23], line 2\u001b[0m\n\u001b[0;32m      1\u001b[0m score \u001b[38;5;241m=\u001b[39m \u001b[38;5;28minput\u001b[39m(\u001b[38;5;124m\"\u001b[39m\u001b[38;5;124m請輸入成績:\u001b[39m\u001b[38;5;124m\"\u001b[39m)\n\u001b[1;32m----> 2\u001b[0m \u001b[38;5;28;01mif\u001b[39;00m(\u001b[43mscore\u001b[49m\u001b[43m \u001b[49m\u001b[38;5;241;43m>\u001b[39;49m\u001b[38;5;241;43m=\u001b[39;49m\u001b[43m \u001b[49m\u001b[38;5;241;43m90\u001b[39;49m):\n\u001b[0;32m      3\u001b[0m     \u001b[38;5;28mprint\u001b[39m(\u001b[38;5;124m\"\u001b[39m\u001b[38;5;124m優等\u001b[39m\u001b[38;5;124m\"\u001b[39m)\n\u001b[0;32m      4\u001b[0m \u001b[38;5;28;01melif\u001b[39;00m(score\u001b[38;5;241m>\u001b[39m\u001b[38;5;241m=\u001b[39m \u001b[38;5;241m80\u001b[39m):\n",
      "\u001b[1;31mTypeError\u001b[0m: '>=' not supported between instances of 'str' and 'int'"
     ]
    }
   ],
   "source": [
    "score = input(\"請輸入成績:\")\n",
    "if(score >= 90):\n",
    "    print(\"優等\")\n",
    "elif(score>= 80):\n",
    "    print(\"甲等\")\n",
    "else:\n",
    "    print(\"丁等\")"
   ]
  }
 ],
 "metadata": {
  "kernelspec": {
   "display_name": "postgreSQL",
   "language": "python",
   "name": "python3"
  },
  "language_info": {
   "codemirror_mode": {
    "name": "ipython",
    "version": 3
   },
   "file_extension": ".py",
   "mimetype": "text/x-python",
   "name": "python",
   "nbconvert_exporter": "python",
   "pygments_lexer": "ipython3",
   "version": "3.10.13"
  }
 },
 "nbformat": 4,
 "nbformat_minor": 2
}
