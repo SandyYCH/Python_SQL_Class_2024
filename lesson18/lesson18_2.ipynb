{
 "cells": [
  {
   "cell_type": "code",
   "execution_count": 7,
   "metadata": {},
   "outputs": [
    {
     "name": "stdout",
     "output_type": "stream",
     "text": [
      "資料表建立完成\n"
     ]
    }
   ],
   "source": [
    "#設定環境變數\n",
    "import psycopg2\n",
    "import os\n",
    "from dotenv import load_dotenv\n",
    "load_dotenv()\n",
    "\n",
    "with psycopg2.connect(os.environ['POSTGRE_PASSWORD2']) as conn:\n",
    "    with conn.cursor() as cursor:\n",
    "        #建立資料表\n",
    "        sql = '''\n",
    "            CREATE TABLE IF NOT EXISTS 站點資訊(\n",
    "\t            站點編號 VARCHAR(10),\n",
    "\t            站點名稱 VARCHAR(30) NOT NULL,\n",
    "\t            行政區 VARCHAR(10) NOT NULL,\n",
    "\t            站點地址 VARCHAR(50),\n",
    "\t            lat NUMERIC(15,11),\n",
    "\t            lng NUMERIC(15,11),\n",
    "\t            PRIMARY KEY(站點編號)\n",
    "            );\n",
    "\n",
    "            CREATE TABLE IF NOT EXISTS youbike(\n",
    "\t            日期 TIMESTAMP,\n",
    "\t            編號 VARCHAR(10),\n",
    "\t            總車輛 INTEGER,\n",
    "\t            可借 INTEGER,\n",
    "\t            可還 INTEGER,\n",
    "\t            活動 BOOLEAN,\n",
    "\t            PRIMARY KEY(日期,編號),\n",
    "                FOREIGN KEY (編號) REFERENCES 站點資訊(站點編號)\n",
    "                ON DELETE CASCADE\n",
    "                ON UPDATE CASCADE\n",
    "            );\n",
    "        '''\n",
    "        cursor.execute(sql)  #執行SQL指令\n",
    "\n",
    "print('資料表建立完成')\n"
   ]
  },
  {
   "cell_type": "code",
   "execution_count": 8,
   "metadata": {},
   "outputs": [
    {
     "name": "stdout",
     "output_type": "stream",
     "text": [
      "資料表插入一筆完成\n"
     ]
    }
   ],
   "source": [
    "#插入一筆資料\n",
    "with psycopg2.connect(os.environ['POSTGRE_PASSWORD2']) as conn:\n",
    "    with conn.cursor() as cursor:\n",
    "        sql = '''\n",
    "            INSERT INTO 站點資訊\n",
    "            VALUES (%s,%s,%s,%s,%s,%s)\n",
    "            ON CONFLICT DO NOTHING;\n",
    "        '''\n",
    "        cursor.execute(sql,('500101001','YouBike2.0_捷運科技大樓站','大安區','復興南路二段235號前',25.02605,121.5436))\n",
    "\n",
    "        sql ='''\n",
    "            INSERT INTO youbike\n",
    "            VALUES (%s,%s,%s,%s,%s,%s)\n",
    "            ON CONFLICT DO NOTHING;      \n",
    "        '''\n",
    "        cursor.execute(sql,('2024-02-16 10:48:19','500101001',28,1,27,True))\n",
    "print('資料表插入一筆完成')"
   ]
  }
 ],
 "metadata": {
  "kernelspec": {
   "display_name": "Python 3",
   "language": "python",
   "name": "python3"
  },
  "language_info": {
   "codemirror_mode": {
    "name": "ipython",
    "version": 3
   },
   "file_extension": ".py",
   "mimetype": "text/x-python",
   "name": "python",
   "nbconvert_exporter": "python",
   "pygments_lexer": "ipython3",
   "version": "3.10.13"
  }
 },
 "nbformat": 4,
 "nbformat_minor": 2
}
