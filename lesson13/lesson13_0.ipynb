{
 "cells": [
  {
   "cell_type": "code",
   "execution_count": 7,
   "metadata": {},
   "outputs": [
    {
     "data": {
      "text/plain": [
       "True"
      ]
     },
     "execution_count": 7,
     "metadata": {},
     "output_type": "execute_result"
    }
   ],
   "source": [
    "from dotenv import load_dotenv\n",
    "load_dotenv()"
   ]
  },
  {
   "cell_type": "code",
   "execution_count": 8,
   "metadata": {},
   "outputs": [],
   "source": [
    "import psycopg2\n",
    "import os\n",
    "conn = psycopg2.connect(os.environ['POSTGRE_PASSWORD'])\n",
    "conn.commit()\n",
    "conn.close()"
   ]
  },
  {
   "cell_type": "code",
   "execution_count": 13,
   "metadata": {},
   "outputs": [],
   "source": [
    "#使用with as語法，可以自動commit()，自動close()\n",
    "#使用with，僅能自動commit()，最後需手動輸入close()\n",
    "#1個分號 = 1個命令\n",
    "with psycopg2.connect(os.environ['POSTGRE_PASSWORD']) as conn:\n",
    "    cursor = conn.cursor()\n",
    "    sql = '''\n",
    "        CREATE TABLE IF NOT EXISTS 客戶(\n",
    "        客戶_id SERIAL,\n",
    "        客戶名稱 VARCHAR(255) NOT NULL,\n",
    "        PRIMARY KEY(客戶_id)\n",
    "        );\n",
    "    '''\n",
    "    cursor.execute(sql)\n",
    "\n",
    "    sql = '''\n",
    "        CREATE TABLE IF NOT EXISTS 聯絡人(\n",
    "        聯絡人id SERIAL,\n",
    "        客戶id INT,\n",
    "        聯絡人姓名 VARCHAR(255) NOT NULL,\n",
    "        電話 VARCHAR(15),\n",
    "        郵件 VARCHAR(100),\n",
    "        PRIMARY KEY(聯絡人id),\n",
    "        FOREIGN KEY(客戶id) REFERENCES 客戶(客戶_id)\n",
    "        );\n",
    "    '''\n",
    "    cursor.execute(sql)\n",
    "    cursor.close()"
   ]
  },
  {
   "cell_type": "code",
   "execution_count": 12,
   "metadata": {},
   "outputs": [],
   "source": [
    "#插入資訊至Table –方法1：手動commit()、手動close()\n",
    "#語言如上\n",
    "\n",
    "#插入客戶資訊至Table –方法1：自動commit()、手動close()\n",
    "conn = psycopg2.connect(os.environ['POSTGRE_PASSWORD'])\n",
    "with conn:\n",
    "    with conn.cursor() as cursor:\n",
    "        sql='''\n",
    "            INSERT INTO 客戶(客戶名稱)\n",
    "            VALUES('遠傳電信'),\n",
    "            ('台灣大車隊');\n",
    "        '''\n",
    "        cursor.execute(sql)\n",
    "    \n",
    "conn.close()"
   ]
  },
  {
   "cell_type": "code",
   "execution_count": 11,
   "metadata": {},
   "outputs": [],
   "source": [
    "#插入聯絡人資訊至Table -方法2：全部自動commit()、自動close()\n",
    "with psycopg2.connect(os.environ['POSTGRE_PASSWORD']) as conn:\n",
    "    with conn.cursor() as cursor:\n",
    "        sql='''\n",
    "            INSERT INTO 聯絡人(客戶id,聯絡人姓名,電話,郵件)\n",
    "            VALUES (1,'John Doe','(408)-111-1234','john.doe@bluebird.dev'),\n",
    "\t        (1,'Jane Doe','(408)-111-1235','jane.doe@bluebird.dev'),\n",
    "\t        (2,'David Wright','(408)-222-1234','david.wright@dolphin.dev');\n",
    "        '''\n",
    "        cursor.execute(sql)"
   ]
  },
  {
   "cell_type": "code",
   "execution_count": 10,
   "metadata": {},
   "outputs": [
    {
     "name": "stdout",
     "output_type": "stream",
     "text": [
      "(1, '遠傳電信', 'John Doe', '(408)-111-1234', 'john.doe@bluebird.dev')\n",
      "(2, '遠傳電信', 'Jane Doe', '(408)-111-1235', 'jane.doe@bluebird.dev')\n",
      "(3, '台灣大車隊', 'David Wright', '(408)-222-1234', 'david.wright@dolphin.dev')\n"
     ]
    }
   ],
   "source": [
    "#透過Python\n",
    "#-建立關聯式(Left Join)Table\n",
    "#-取出SQL資料庫的值\n",
    "\n",
    "with psycopg2.connect(os.environ['POSTGRE_PASSWORD']) as conn:\n",
    "    with conn.cursor() as cursor:\n",
    "        sql='''\n",
    "            SELECT 聯絡人id,客戶名稱,聯絡人姓名,電話,郵件\n",
    "            FROM 聯絡人 LEFT JOIN 客戶 ON 聯絡人.客戶id = 客戶.客戶_id\n",
    "        '''\n",
    "        cursor.execute(sql)\n",
    "        datas:list = cursor.fetchmany(10)\n",
    "\n",
    "for item in datas:\n",
    "    print(item)"
   ]
  },
  {
   "cell_type": "code",
   "execution_count": 9,
   "metadata": {},
   "outputs": [
    {
     "name": "stdout",
     "output_type": "stream",
     "text": [
      "(1, '遠傳電信', 'John Doe', '(408)-111-1234', 'john.doe@bluebird.dev')\n",
      "(2, '遠傳電信', 'Jane Doe', '(408)-111-1235', 'jane.doe@bluebird.dev')\n",
      "(3, '台灣大車隊', 'David Wright', '(408)-222-1234', 'david.wright@dolphin.dev')\n"
     ]
    }
   ],
   "source": [
    "# 補充：不知道取出的值有幾筆時，取出值的語法\n",
    "with psycopg2.connect(os.environ['POSTGRE_PASSWORD']) as conn:\n",
    "    with conn.cursor() as cursor:\n",
    "        sql='''\n",
    "            SELECT 聯絡人id,客戶名稱,聯絡人姓名,電話,郵件\n",
    "            FROM 聯絡人 LEFT JOIN 客戶 ON 聯絡人.客戶id = 客戶.客戶_id\n",
    "        '''\n",
    "        cursor.execute(sql)\n",
    "        while True:\n",
    "            oneItem = cursor.fetchone()\n",
    "            if oneItem is not None:\n",
    "                print(oneItem)\n",
    "            else:\n",
    "                break"
   ]
  }
 ],
 "metadata": {
  "kernelspec": {
   "display_name": "Python 3",
   "language": "python",
   "name": "python3"
  },
  "language_info": {
   "codemirror_mode": {
    "name": "ipython",
    "version": 3
   },
   "file_extension": ".py",
   "mimetype": "text/x-python",
   "name": "python",
   "nbconvert_exporter": "python",
   "pygments_lexer": "ipython3",
   "version": "3.10.13"
  }
 },
 "nbformat": 4,
 "nbformat_minor": 2
}
