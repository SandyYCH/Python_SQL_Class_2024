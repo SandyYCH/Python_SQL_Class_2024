{
 "cells": [
  {
   "cell_type": "code",
   "execution_count": 1,
   "metadata": {},
   "outputs": [
    {
     "data": {
      "text/plain": [
       "True"
      ]
     },
     "execution_count": 1,
     "metadata": {},
     "output_type": "execute_result"
    }
   ],
   "source": [
    "from dotenv import load_dotenv\n",
    "load_dotenv()"
   ]
  },
  {
   "cell_type": "code",
   "execution_count": 10,
   "metadata": {},
   "outputs": [],
   "source": [
    "import psycopg2\n",
    "import os\n",
    "conn = psycopg2.connect(os.environ['POSTGRE_PASSWORD'])\n",
    "conn.commit()\n",
    "conn.close()"
   ]
  },
  {
   "cell_type": "code",
   "execution_count": 11,
   "metadata": {},
   "outputs": [],
   "source": [
    "#使用with as語法，可以自動commit()，自動close()\n",
    "#使用with，僅能自動commit()，最後需手動輸入close()\n",
    "#1個分號 = 1個命令\n",
    "with psycopg2.connect(os.environ['POSTGRE_PASSWORD']) as conn:\n",
    "    cursor = conn.cursor()\n",
    "    sql = '''\n",
    "        CREATE TABLE IF NOT EXISTS 客戶(\n",
    "        客戶_id SERIAL,\n",
    "        客戶名稱 VARCHAR(255) NOT NULL,\n",
    "        PRIMARY KEY(客戶_id)\n",
    "        );\n",
    "    '''\n",
    "    cursor.execute(sql)\n",
    "\n",
    "    sql = '''\n",
    "        CREATE TABLE IF NOT EXISTS 聯絡人(\n",
    "        聯絡人id SERIAL,\n",
    "        客戶id INT,\n",
    "        聯絡人姓名 VARCHAR(255) NOT NULL,\n",
    "        電話 VARCHAR(15),\n",
    "        郵件 VARCHAR(100),\n",
    "        PRIMARY KEY(聯絡人id),\n",
    "        FOREIGN KEY(客戶id) REFERENCES 客戶(客戶_id)\n",
    "        );\n",
    "    '''\n",
    "    cursor.execute(sql)\n",
    "    cursor.close()"
   ]
  }
 ],
 "metadata": {
  "kernelspec": {
   "display_name": "Python 3",
   "language": "python",
   "name": "python3"
  },
  "language_info": {
   "codemirror_mode": {
    "name": "ipython",
    "version": 3
   },
   "file_extension": ".py",
   "mimetype": "text/x-python",
   "name": "python",
   "nbconvert_exporter": "python",
   "pygments_lexer": "ipython3",
   "version": "3.10.13"
  }
 },
 "nbformat": 4,
 "nbformat_minor": 2
}
