{
 "cells": [
  {
   "cell_type": "code",
   "execution_count": 4,
   "metadata": {},
   "outputs": [
    {
     "name": "stdout",
     "output_type": "stream",
     "text": [
      "My car is blue and has 4 seats.\n"
     ]
    }
   ],
   "source": [
    "# 汽車類別\n",
    "class Cars:\n",
    "    # 建構式\n",
    "    def __init__(self, color, seat):\n",
    "        self.color = color  # 顏色屬性\n",
    "        self.seat = seat  # 座位屬性\n",
    "    # 方法(Method)\n",
    "    def drive(self):\n",
    "        print(f\"My car is {self.color} and has {self.seat} seats.\")\n",
    "mazda = Cars(\"blue\", 4)\n",
    "mazda.drive()  #執行結果：My car is blue and has 4 seats."
   ]
  },
  {
   "cell_type": "code",
   "execution_count": null,
   "metadata": {},
   "outputs": [],
   "source": [
    "\n",
    "\n",
    "\n",
    "\n",
    "\n",
    "\n",
    "\n",
    "\n",
    "\n",
    "\n",
    "\n"
   ]
  },
  {
   "cell_type": "code",
   "execution_count": 9,
   "metadata": {},
   "outputs": [],
   "source": [
    "def cars(color,seat):\n",
    "    print(f'My car is {color} and has {seat} seats.')"
   ]
  },
  {
   "cell_type": "code",
   "execution_count": 10,
   "metadata": {},
   "outputs": [
    {
     "name": "stdout",
     "output_type": "stream",
     "text": [
      "My car is blue and has 4 seats.\n"
     ]
    }
   ],
   "source": [
    "cars('blue',4)"
   ]
  }
 ],
 "metadata": {
  "kernelspec": {
   "display_name": "postgreSQL",
   "language": "python",
   "name": "python3"
  },
  "language_info": {
   "codemirror_mode": {
    "name": "ipython",
    "version": 3
   },
   "file_extension": ".py",
   "mimetype": "text/x-python",
   "name": "python",
   "nbconvert_exporter": "python",
   "pygments_lexer": "ipython3",
   "version": "3.10.13"
  }
 },
 "nbformat": 4,
 "nbformat_minor": 2
}
